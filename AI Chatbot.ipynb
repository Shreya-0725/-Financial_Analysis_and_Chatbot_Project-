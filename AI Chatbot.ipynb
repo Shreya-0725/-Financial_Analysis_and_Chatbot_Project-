{
 "cells": [
  {
   "cell_type": "markdown",
   "id": "3ba59a62-57e8-4d4d-b23c-4ebcf77a43df",
   "metadata": {},
   "source": [
    "# AI Chatbot Prototype for Financial Analysis\n"
   ]
  },
  {
   "cell_type": "code",
   "execution_count": 1,
   "id": "b91c7cc7-7e30-4df3-896b-5b8c2db6e1f3",
   "metadata": {},
   "outputs": [],
   "source": [
    "import pandas as pd"
   ]
  },
  {
   "cell_type": "code",
   "execution_count": 3,
   "id": "3c484ebc-5a6d-48b0-a7bb-898855217851",
   "metadata": {},
   "outputs": [],
   "source": [
    "# Chatbot Function\n",
    "\n",
    "def simple_chatbot(user_query):\n",
    "    if user_query == \"What is the total revenue of Apple in 2024?\":\n",
    "        return \"The total revenue of Apple in 2024 is $400,000.\"\n",
    "    elif user_query == \"What is the Net Income Margin of Microsoft in 2024?\":\n",
    "        return \"Microsoft's Net Income Margin in 2024 is 36.00%.\"\n",
    "    elif user_query == \"How has Tesla's net income changed from 2023 to 2024?\":\n",
    "        return \"Tesla's net income decreased by 53.32% from 2023 to 2024.\"\n",
    "    elif user_query == \"What is the Debt to Asset Ratio of Apple in 2023?\":\n",
    "        return \"Apple's Debt to Asset Ratio in 2023 is 0.824.\"\n",
    "    elif user_query == \"Which company has the highest average Operating Cash Flow growth?\":\n",
    "        return \"Tesla has the highest average Operating Cash Flow growth.\"\n",
    "    else:\n",
    "        return \"Sorry, I can only provide information on predefined queries.\"\n"
   ]
  },
  {
   "cell_type": "code",
   "execution_count": 4,
   "id": "f75013e1-0e92-4dc8-b62d-37e1d5698641",
   "metadata": {},
   "outputs": [
    {
     "name": "stdout",
     "output_type": "stream",
     "text": [
      "The total revenue of Apple in 2024 is $400,000.\n",
      "Microsoft's Net Income Margin in 2024 is 36.00%.\n",
      "Tesla's net income decreased by 53.32% from 2023 to 2024.\n",
      "Apple's Debt to Asset Ratio in 2023 is 0.824.\n",
      "Tesla has the highest average Operating Cash Flow growth.\n",
      "Sorry, I can only provide information on predefined queries.\n"
     ]
    }
   ],
   "source": [
    "# Example tests\n",
    "print(simple_chatbot(\"What is the total revenue of Apple in 2024?\"))\n",
    "print(simple_chatbot(\"What is the Net Income Margin of Microsoft in 2024?\"))\n",
    "print(simple_chatbot(\"How has Tesla's net income changed from 2023 to 2024?\"))\n",
    "print(simple_chatbot(\"What is the Debt to Asset Ratio of Apple in 2023?\"))\n",
    "print(simple_chatbot(\"Which company has the highest average Operating Cash Flow growth?\"))\n",
    "print(simple_chatbot(\"What is the stock price of Apple?\"))  # Unrecognized query\n"
   ]
  },
  {
   "cell_type": "markdown",
   "id": "ed62eccb-30d9-40ff-8e6c-6a5cd79682e2",
   "metadata": {},
   "source": [
    "## Chatbot Documentation\n",
    "\n",
    "This is a simple AI chatbot prototype designed to respond to predefined financial queries based on previously analyzed company data. It uses `if-else` conditions to match the user’s input and returns specific, canned responses. \n",
    "\n",
    "### Predefined queries it supports:\n",
    "- What is the total revenue of Apple in 2024?\n",
    "- What is the Net Income Margin of Microsoft in 2024?\n",
    "- How has Tesla's net income changed from 2023 to 2024?\n",
    "- What is the Debt to Asset Ratio of Apple in 2023?\n",
    "- Which company has the highest average Operating Cash Flow growth?\n",
    "\n",
    "### Limitations:\n",
    "- Only supports fixed, predefined queries.\n",
    "- Cannot process unknown or dynamic questions.\n",
    "- No real-time data or learning ability.\n"
   ]
  },
  {
   "cell_type": "code",
   "execution_count": null,
   "id": "bc8849c5-eb3b-4925-a0c8-b6410db5fedd",
   "metadata": {},
   "outputs": [],
   "source": []
  }
 ],
 "metadata": {
  "kernelspec": {
   "display_name": "Python 3 (ipykernel)",
   "language": "python",
   "name": "python3"
  },
  "language_info": {
   "codemirror_mode": {
    "name": "ipython",
    "version": 3
   },
   "file_extension": ".py",
   "mimetype": "text/x-python",
   "name": "python",
   "nbconvert_exporter": "python",
   "pygments_lexer": "ipython3",
   "version": "3.12.7"
  }
 },
 "nbformat": 4,
 "nbformat_minor": 5
}
